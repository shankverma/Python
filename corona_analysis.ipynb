{
 "cells": [
  {
   "cell_type": "code",
   "execution_count": 22,
   "metadata": {},
   "outputs": [],
   "source": [
    "import pandas as pd\n",
    "import kagglehub\n",
    "import matplotlib.pyplot as plt\n",
    "# this is to display the columns\n",
    "pd.options.display.max_columns = 100\n"
   ]
  },
  {
   "cell_type": "markdown",
   "metadata": {},
   "source": [
    "#### Read the csv using PD"
   ]
  },
  {
   "cell_type": "code",
   "execution_count": 23,
   "metadata": {},
   "outputs": [
    {
     "name": "stdout",
     "output_type": "stream",
     "text": [
      "Warning: Looks like you're using an outdated `kagglehub` version, please consider updating (latest version: 0.3.7)\n",
      "Path to dataset files: /Users/shashankverma/.cache/kagglehub/datasets/gcreatives/impact-of-covid-19-on-working-professionals/versions/1\n",
      "   Increased_Work_Hours  Work_From_Home  Hours_Worked_Per_Day  \\\n",
      "0                     1               1              6.392394   \n",
      "1                     1               1              9.171984   \n",
      "2                     1               0             10.612561   \n",
      "3                     1               1              5.546169   \n",
      "4                     0               1             11.424615   \n",
      "\n",
      "   Meetings_Per_Day  Productivity_Change Stress_Level  Health_Issue  \\\n",
      "0          2.684594                    1          Low             0   \n",
      "1          3.339225                    1          Low             0   \n",
      "2          2.218333                    0       Medium             0   \n",
      "3          5.150566                    0       Medium             0   \n",
      "4          3.121126                    1       Medium             0   \n",
      "\n",
      "   Job_Security  Childcare_Responsibilities  Commuting_Changes  \\\n",
      "0             0                           1                  1   \n",
      "1             1                           0                  1   \n",
      "2             0                           0                  0   \n",
      "3             0                           0                  1   \n",
      "4             1                           1                  1   \n",
      "\n",
      "   Technology_Adaptation  Salary_Changes  Team_Collaboration_Challenges  \\\n",
      "0                      1               0                              1   \n",
      "1                      1               0                              1   \n",
      "2                      0               0                              0   \n",
      "3                      0               0                              0   \n",
      "4                      0               1                              1   \n",
      "\n",
      "      Sector  Affected_by_Covid  \n",
      "0     Retail                  1  \n",
      "1         IT                  1  \n",
      "2     Retail                  1  \n",
      "3  Education                  1  \n",
      "4  Education                  1  \n"
     ]
    },
    {
     "data": {
      "text/plain": [
       "(10000, 15)"
      ]
     },
     "execution_count": 23,
     "metadata": {},
     "output_type": "execute_result"
    }
   ],
   "source": [
    "path = kagglehub.dataset_download(\"gcreatives/impact-of-covid-19-on-working-professionals\")\n",
    "\n",
    "print(\"Path to dataset files:\", path)\n",
    "\n",
    "df = pd.read_csv(path+'/synthetic_covid_impact_on_work.csv')\n",
    "print(df.head())\n",
    "\n",
    "#Displays the number of rows and columns\n",
    "df.shape"
   ]
  },
  {
   "cell_type": "markdown",
   "metadata": {},
   "source": [
    "#### Rename the column"
   ]
  },
  {
   "cell_type": "code",
   "execution_count": 24,
   "metadata": {},
   "outputs": [
    {
     "name": "stdout",
     "output_type": "stream",
     "text": [
      "Index(['Increased_Work_Hours', 'Work_From_Home', 'Hours_Worked_Per_Day',\n",
      "       'Meetings_Per_Day', 'Productivity_Change', 'Stress_Level',\n",
      "       'Health_Issue', 'Job_Security', 'Childcare_Responsibilities',\n",
      "       'Commuting_Changes', 'Technology_Adaptation', 'Salary_Changes',\n",
      "       'Team_Collaboration_Challenges', 'Sector', 'Affected_by_Covid'],\n",
      "      dtype='object')\n",
      "Index(['Increased_Work_Hours', 'Work_From_Home', 'Hours_Worked_Per_Day',\n",
      "       'Meetings_Per_Day', 'Productivity_Change', 'Stress_Level',\n",
      "       'Health_Issue', 'Job_Security', 'Childcare_Responsibilities',\n",
      "       'Commuting_Changes', 'Technology_Adaptation', 'Salary_Changes',\n",
      "       'Challenges_Team_Collaboration', 'Sector', 'Affected_by_Covid'],\n",
      "      dtype='object')\n"
     ]
    },
    {
     "data": {
      "text/plain": [
       "<bound method NDFrame.describe of       Increased_Work_Hours  Work_From_Home  Hours_Worked_Per_Day  \\\n",
       "0                        1               1              6.392394   \n",
       "1                        1               1              9.171984   \n",
       "2                        1               0             10.612561   \n",
       "3                        1               1              5.546169   \n",
       "4                        0               1             11.424615   \n",
       "...                    ...             ...                   ...   \n",
       "9995                     1               1              7.961822   \n",
       "9996                     0               0             10.917086   \n",
       "9997                     1               1             10.176211   \n",
       "9998                     1               1             11.903973   \n",
       "9999                     0               0              8.443284   \n",
       "\n",
       "      Meetings_Per_Day  Productivity_Change Stress_Level  Health_Issue  \\\n",
       "0             2.684594                    1          Low             0   \n",
       "1             3.339225                    1          Low             0   \n",
       "2             2.218333                    0       Medium             0   \n",
       "3             5.150566                    0       Medium             0   \n",
       "4             3.121126                    1       Medium             0   \n",
       "...                ...                  ...          ...           ...   \n",
       "9995          2.283857                    1       Medium             1   \n",
       "9996          3.621406                    0       Medium             0   \n",
       "9997          1.039689                    1          Low             0   \n",
       "9998          3.756725                    0       Medium             1   \n",
       "9999          4.225794                    1       Medium             0   \n",
       "\n",
       "      Job_Security  Childcare_Responsibilities  Commuting_Changes  \\\n",
       "0                0                           1                  1   \n",
       "1                1                           0                  1   \n",
       "2                0                           0                  0   \n",
       "3                0                           0                  1   \n",
       "4                1                           1                  1   \n",
       "...            ...                         ...                ...   \n",
       "9995             1                           1                  0   \n",
       "9996             0                           1                  0   \n",
       "9997             1                           0                  1   \n",
       "9998             1                           0                  1   \n",
       "9999             0                           0                  1   \n",
       "\n",
       "      Technology_Adaptation  Salary_Changes  Challenges_Team_Collaboration  \\\n",
       "0                         1               0                              1   \n",
       "1                         1               0                              1   \n",
       "2                         0               0                              0   \n",
       "3                         0               0                              0   \n",
       "4                         0               1                              1   \n",
       "...                     ...             ...                            ...   \n",
       "9995                      0               0                              1   \n",
       "9996                      1               0                              0   \n",
       "9997                      1               1                              1   \n",
       "9998                      1               1                              1   \n",
       "9999                      1               0                              1   \n",
       "\n",
       "         Sector  Affected_by_Covid  \n",
       "0        Retail                  1  \n",
       "1            IT                  1  \n",
       "2        Retail                  1  \n",
       "3     Education                  1  \n",
       "4     Education                  1  \n",
       "...         ...                ...  \n",
       "9995         IT                  1  \n",
       "9996         IT                  1  \n",
       "9997     Retail                  1  \n",
       "9998  Education                  1  \n",
       "9999     Retail                  1  \n",
       "\n",
       "[10000 rows x 15 columns]>"
      ]
     },
     "execution_count": 24,
     "metadata": {},
     "output_type": "execute_result"
    }
   ],
   "source": [
    "print(df.columns)\n",
    "\n",
    "df.rename(columns={'Team_Collaboration_Challenges': 'Challenges_Team_Collaboration'}, inplace=True)\n",
    "\n",
    "print(df.columns)\n",
    "\n",
    "#shows the types of the columns\n",
    "df.dtypes\n",
    "\n",
    "df.describe\n",
    "\n"
   ]
  },
  {
   "cell_type": "markdown",
   "metadata": {},
   "source": [
    "#### Figure out Sectors Affected by COVID"
   ]
  },
  {
   "cell_type": "code",
   "execution_count": 25,
   "metadata": {},
   "outputs": [
    {
     "data": {
      "image/png": "[encoded data removed]",
      "text/plain": [
       "<Figure size 640x480 with 1 Axes>"
      ]
     },
     "metadata": {},
     "output_type": "display_data"
    }
   ],
   "source": [
    "df_sector = df[['Sector', 'Affected_by_Covid']].groupby(['Sector']).sum()\n",
    "df_sector.reset_index().plot(x='Sector', y='Affected_by_Covid')\n",
    "plt.show()"
   ]
  },
  {
   "cell_type": "markdown",
   "metadata": {},
   "source": [
    "#### How to sort the dataframe by ascending or descending based on a column"
   ]
  },
  {
   "cell_type": "code",
   "execution_count": 26,
   "metadata": {},
   "outputs": [
    {
     "data": {
      "text/html": [
       "<div>\n",
       "<style scoped>\n",
       "    .dataframe tbody tr th:only-of-type {\n",
       "        vertical-align: middle;\n",
       "    }\n",
       "\n",
       "    .dataframe tbody tr th {\n",
       "        vertical-align: top;\n",
       "    }\n",
       "\n",
       "    .dataframe thead th {\n",
       "        text-align: right;\n",
       "    }\n",
       "</style>\n",
       "<table border=\"1\" class=\"dataframe\">\n",
       "  <thead>\n",
       "    <tr style=\"text-align: right;\">\n",
       "      <th></th>\n",
       "      <th>Affected_by_Covid</th>\n",
       "    </tr>\n",
       "    <tr>\n",
       "      <th>Sector</th>\n",
       "      <th></th>\n",
       "    </tr>\n",
       "  </thead>\n",
       "  <tbody>\n",
       "    <tr>\n",
       "      <th>IT</th>\n",
       "      <td>2546</td>\n",
       "    </tr>\n",
       "    <tr>\n",
       "      <th>Healthcare</th>\n",
       "      <td>2498</td>\n",
       "    </tr>\n",
       "    <tr>\n",
       "      <th>Education</th>\n",
       "      <td>2484</td>\n",
       "    </tr>\n",
       "    <tr>\n",
       "      <th>Retail</th>\n",
       "      <td>2472</td>\n",
       "    </tr>\n",
       "  </tbody>\n",
       "</table>\n",
       "</div>"
      ],
      "text/plain": [
       "            Affected_by_Covid\n",
       "Sector                       \n",
       "IT                       2546\n",
       "Healthcare               2498\n",
       "Education                2484\n",
       "Retail                   2472"
      ]
     },
     "execution_count": 26,
     "metadata": {},
     "output_type": "execute_result"
    }
   ],
   "source": [
    "df_sector.sort_values(by=['Affected_by_Covid'], ascending=False)"
   ]
  },
  {
   "cell_type": "markdown",
   "metadata": {},
   "source": [
    "#### How to drop duplicates from the dataframe"
   ]
  },
  {
   "cell_type": "code",
   "execution_count": 27,
   "metadata": {},
   "outputs": [
    {
     "data": {
      "text/html": [
       "<div>\n",
       "<style scoped>\n",
       "    .dataframe tbody tr th:only-of-type {\n",
       "        vertical-align: middle;\n",
       "    }\n",
       "\n",
       "    .dataframe tbody tr th {\n",
       "        vertical-align: top;\n",
       "    }\n",
       "\n",
       "    .dataframe thead th {\n",
       "        text-align: right;\n",
       "    }\n",
       "</style>\n",
       "<table border=\"1\" class=\"dataframe\">\n",
       "  <thead>\n",
       "    <tr style=\"text-align: right;\">\n",
       "      <th></th>\n",
       "      <th>customer_id</th>\n",
       "      <th>purchase_amount</th>\n",
       "    </tr>\n",
       "  </thead>\n",
       "  <tbody>\n",
       "    <tr>\n",
       "      <th>0</th>\n",
       "      <td>1</td>\n",
       "      <td>200</td>\n",
       "    </tr>\n",
       "    <tr>\n",
       "      <th>1</th>\n",
       "      <td>2</td>\n",
       "      <td>150</td>\n",
       "    </tr>\n",
       "    <tr>\n",
       "      <th>2</th>\n",
       "      <td>3</td>\n",
       "      <td>300</td>\n",
       "    </tr>\n",
       "  </tbody>\n",
       "</table>\n",
       "</div>"
      ],
      "text/plain": [
       "   customer_id  purchase_amount\n",
       "0            1              200\n",
       "1            2              150\n",
       "2            3              300"
      ]
     },
     "execution_count": 27,
     "metadata": {},
     "output_type": "execute_result"
    }
   ],
   "source": [
    "# Sample DataFrame\n",
    "df1 = pd.DataFrame({\n",
    "    'customer_id': [1, 2, 3, 2],\n",
    "    'purchase_amount': [200, 150, 300, 150]\n",
    "})\n",
    "\n",
    "df1.head()\n",
    "# Failing to mention inplace condition, will not change the df\n",
    "df1.drop_duplicates(inplace=True)\n",
    "\n",
    "df1.head()\n"
   ]
  },
  {
   "cell_type": "code",
   "execution_count": 28,
   "metadata": {},
   "outputs": [
    {
     "name": "stdout",
     "output_type": "stream",
     "text": [
      "Index(['Sector', 'Affected_by_Covid'], dtype='object')\n"
     ]
    },
    {
     "data": {
      "image/png": "[encoded data removed]",
      "text/plain": [
       "<Figure size 800x600 with 1 Axes>"
      ]
     },
     "metadata": {},
     "output_type": "display_data"
    }
   ],
   "source": [
    "df_sector.reset_index(inplace=True)\n",
    "print(df_sector.columns)\n",
    "plt.figure(figsize=(8, 6))\n",
    "plt.bar(df_sector.Sector, df_sector.Affected_by_Covid, color=['tab:red', 'tab:blue', 'tab:red', 'tab:orange'])\n",
    "plt.ylim(df_sector['Affected_by_Covid'].min() - 50, df_sector['Affected_by_Covid'].max() + 50)\n",
    "plt.show()\n"
   ]
  },
  {
   "cell_type": "code",
   "execution_count": 29,
   "metadata": {},
   "outputs": [
    {
     "name": "stdout",
     "output_type": "stream",
     "text": [
      "<class 'pandas.core.frame.DataFrame'>\n",
      "RangeIndex: 10000 entries, 0 to 9999\n",
      "Data columns (total 15 columns):\n",
      " #   Column                         Non-Null Count  Dtype  \n",
      "---  ------                         --------------  -----  \n",
      " 0   Increased_Work_Hours           10000 non-null  int64  \n",
      " 1   Work_From_Home                 10000 non-null  int64  \n",
      " 2   Hours_Worked_Per_Day           10000 non-null  float64\n",
      " 3   Meetings_Per_Day               10000 non-null  float64\n",
      " 4   Productivity_Change            10000 non-null  int64  \n",
      " 5   Stress_Level                   10000 non-null  object \n",
      " 6   Health_Issue                   10000 non-null  int64  \n",
      " 7   Job_Security                   10000 non-null  int64  \n",
      " 8   Childcare_Responsibilities     10000 non-null  int64  \n",
      " 9   Commuting_Changes              10000 non-null  int64  \n",
      " 10  Technology_Adaptation          10000 non-null  int64  \n",
      " 11  Salary_Changes                 10000 non-null  int64  \n",
      " 12  Challenges_Team_Collaboration  10000 non-null  int64  \n",
      " 13  Sector                         10000 non-null  object \n",
      " 14  Affected_by_Covid              10000 non-null  int64  \n",
      "dtypes: float64(2), int64(11), object(2)\n",
      "memory usage: 1.1+ MB\n"
     ]
    }
   ],
   "source": [
    "df.info()"
   ]
  },
  {
   "cell_type": "code",
   "execution_count": 30,
   "metadata": {},
   "outputs": [
    {
     "data": {
      "text/html": [
       "<div>\n",
       "<style scoped>\n",
       "    .dataframe tbody tr th:only-of-type {\n",
       "        vertical-align: middle;\n",
       "    }\n",
       "\n",
       "    .dataframe tbody tr th {\n",
       "        vertical-align: top;\n",
       "    }\n",
       "\n",
       "    .dataframe thead th {\n",
       "        text-align: right;\n",
       "    }\n",
       "</style>\n",
       "<table border=\"1\" class=\"dataframe\">\n",
       "  <thead>\n",
       "    <tr style=\"text-align: right;\">\n",
       "      <th></th>\n",
       "      <th>Increased_Work_Hours</th>\n",
       "      <th>Work_From_Home</th>\n",
       "      <th>Hours_Worked_Per_Day</th>\n",
       "      <th>Meetings_Per_Day</th>\n",
       "      <th>Productivity_Change</th>\n",
       "      <th>Health_Issue</th>\n",
       "      <th>Job_Security</th>\n",
       "      <th>Childcare_Responsibilities</th>\n",
       "      <th>Commuting_Changes</th>\n",
       "      <th>Technology_Adaptation</th>\n",
       "      <th>Salary_Changes</th>\n",
       "      <th>Challenges_Team_Collaboration</th>\n",
       "      <th>Affected_by_Covid</th>\n",
       "    </tr>\n",
       "  </thead>\n",
       "  <tbody>\n",
       "    <tr>\n",
       "      <th>count</th>\n",
       "      <td>10000.000000</td>\n",
       "      <td>10000.000000</td>\n",
       "      <td>10000.000000</td>\n",
       "      <td>10000.000000</td>\n",
       "      <td>10000.00000</td>\n",
       "      <td>10000.000000</td>\n",
       "      <td>10000.000000</td>\n",
       "      <td>10000.000000</td>\n",
       "      <td>10000.00000</td>\n",
       "      <td>10000.000000</td>\n",
       "      <td>10000.000000</td>\n",
       "      <td>10000.000000</td>\n",
       "      <td>10000.0</td>\n",
       "    </tr>\n",
       "    <tr>\n",
       "      <th>mean</th>\n",
       "      <td>0.676900</td>\n",
       "      <td>0.803300</td>\n",
       "      <td>8.006538</td>\n",
       "      <td>3.976717</td>\n",
       "      <td>0.50220</td>\n",
       "      <td>0.301100</td>\n",
       "      <td>0.404900</td>\n",
       "      <td>0.396700</td>\n",
       "      <td>0.50220</td>\n",
       "      <td>0.605100</td>\n",
       "      <td>0.194800</td>\n",
       "      <td>0.700600</td>\n",
       "      <td>1.0</td>\n",
       "    </tr>\n",
       "    <tr>\n",
       "      <th>std</th>\n",
       "      <td>0.467684</td>\n",
       "      <td>0.397523</td>\n",
       "      <td>1.978468</td>\n",
       "      <td>1.521594</td>\n",
       "      <td>0.50002</td>\n",
       "      <td>0.458759</td>\n",
       "      <td>0.490897</td>\n",
       "      <td>0.489237</td>\n",
       "      <td>0.50002</td>\n",
       "      <td>0.488854</td>\n",
       "      <td>0.396066</td>\n",
       "      <td>0.458018</td>\n",
       "      <td>0.0</td>\n",
       "    </tr>\n",
       "    <tr>\n",
       "      <th>min</th>\n",
       "      <td>0.000000</td>\n",
       "      <td>0.000000</td>\n",
       "      <td>0.287249</td>\n",
       "      <td>-2.698406</td>\n",
       "      <td>0.00000</td>\n",
       "      <td>0.000000</td>\n",
       "      <td>0.000000</td>\n",
       "      <td>0.000000</td>\n",
       "      <td>0.00000</td>\n",
       "      <td>0.000000</td>\n",
       "      <td>0.000000</td>\n",
       "      <td>0.000000</td>\n",
       "      <td>1.0</td>\n",
       "    </tr>\n",
       "    <tr>\n",
       "      <th>25%</th>\n",
       "      <td>0.000000</td>\n",
       "      <td>1.000000</td>\n",
       "      <td>6.648484</td>\n",
       "      <td>2.924896</td>\n",
       "      <td>0.00000</td>\n",
       "      <td>0.000000</td>\n",
       "      <td>0.000000</td>\n",
       "      <td>0.000000</td>\n",
       "      <td>0.00000</td>\n",
       "      <td>0.000000</td>\n",
       "      <td>0.000000</td>\n",
       "      <td>0.000000</td>\n",
       "      <td>1.0</td>\n",
       "    </tr>\n",
       "    <tr>\n",
       "      <th>50%</th>\n",
       "      <td>1.000000</td>\n",
       "      <td>1.000000</td>\n",
       "      <td>8.010864</td>\n",
       "      <td>3.981344</td>\n",
       "      <td>1.00000</td>\n",
       "      <td>0.000000</td>\n",
       "      <td>0.000000</td>\n",
       "      <td>0.000000</td>\n",
       "      <td>1.00000</td>\n",
       "      <td>1.000000</td>\n",
       "      <td>0.000000</td>\n",
       "      <td>1.000000</td>\n",
       "      <td>1.0</td>\n",
       "    </tr>\n",
       "    <tr>\n",
       "      <th>75%</th>\n",
       "      <td>1.000000</td>\n",
       "      <td>1.000000</td>\n",
       "      <td>9.348860</td>\n",
       "      <td>5.024619</td>\n",
       "      <td>1.00000</td>\n",
       "      <td>1.000000</td>\n",
       "      <td>1.000000</td>\n",
       "      <td>1.000000</td>\n",
       "      <td>1.00000</td>\n",
       "      <td>1.000000</td>\n",
       "      <td>0.000000</td>\n",
       "      <td>1.000000</td>\n",
       "      <td>1.0</td>\n",
       "    </tr>\n",
       "    <tr>\n",
       "      <th>max</th>\n",
       "      <td>1.000000</td>\n",
       "      <td>1.000000</td>\n",
       "      <td>16.958169</td>\n",
       "      <td>9.591750</td>\n",
       "      <td>1.00000</td>\n",
       "      <td>1.000000</td>\n",
       "      <td>1.000000</td>\n",
       "      <td>1.000000</td>\n",
       "      <td>1.00000</td>\n",
       "      <td>1.000000</td>\n",
       "      <td>1.000000</td>\n",
       "      <td>1.000000</td>\n",
       "      <td>1.0</td>\n",
       "    </tr>\n",
       "  </tbody>\n",
       "</table>\n",
       "</div>"
      ],
      "text/plain": [
       "       Increased_Work_Hours  Work_From_Home  Hours_Worked_Per_Day  \\\n",
       "count          10000.000000    10000.000000          10000.000000   \n",
       "mean               0.676900        0.803300              8.006538   \n",
       "std                0.467684        0.397523              1.978468   \n",
       "min                0.000000        0.000000              0.287249   \n",
       "25%                0.000000        1.000000              6.648484   \n",
       "50%                1.000000        1.000000              8.010864   \n",
       "75%                1.000000        1.000000              9.348860   \n",
       "max                1.000000        1.000000             16.958169   \n",
       "\n",
       "       Meetings_Per_Day  Productivity_Change  Health_Issue  Job_Security  \\\n",
       "count      10000.000000          10000.00000  10000.000000  10000.000000   \n",
       "mean           3.976717              0.50220      0.301100      0.404900   \n",
       "std            1.521594              0.50002      0.458759      0.490897   \n",
       "min           -2.698406              0.00000      0.000000      0.000000   \n",
       "25%            2.924896              0.00000      0.000000      0.000000   \n",
       "50%            3.981344              1.00000      0.000000      0.000000   \n",
       "75%            5.024619              1.00000      1.000000      1.000000   \n",
       "max            9.591750              1.00000      1.000000      1.000000   \n",
       "\n",
       "       Childcare_Responsibilities  Commuting_Changes  Technology_Adaptation  \\\n",
       "count                10000.000000        10000.00000           10000.000000   \n",
       "mean                     0.396700            0.50220               0.605100   \n",
       "std                      0.489237            0.50002               0.488854   \n",
       "min                      0.000000            0.00000               0.000000   \n",
       "25%                      0.000000            0.00000               0.000000   \n",
       "50%                      0.000000            1.00000               1.000000   \n",
       "75%                      1.000000            1.00000               1.000000   \n",
       "max                      1.000000            1.00000               1.000000   \n",
       "\n",
       "       Salary_Changes  Challenges_Team_Collaboration  Affected_by_Covid  \n",
       "count    10000.000000                   10000.000000            10000.0  \n",
       "mean         0.194800                       0.700600                1.0  \n",
       "std          0.396066                       0.458018                0.0  \n",
       "min          0.000000                       0.000000                1.0  \n",
       "25%          0.000000                       0.000000                1.0  \n",
       "50%          0.000000                       1.000000                1.0  \n",
       "75%          0.000000                       1.000000                1.0  \n",
       "max          1.000000                       1.000000                1.0  "
      ]
     },
     "execution_count": 30,
     "metadata": {},
     "output_type": "execute_result"
    }
   ],
   "source": [
    "df.describe()"
   ]
  },
  {
   "cell_type": "markdown",
   "metadata": {},
   "source": [
    "#### Analyzing stress level based on Sector"
   ]
  },
  {
   "cell_type": "code",
   "execution_count": 31,
   "metadata": {},
   "outputs": [],
   "source": [
    "# Use Size instead of count to count grouped values\n",
    "\n",
    "df_stress_sector = df[['Sector', 'Stress_Level']].groupby(['Sector', 'Stress_Level']).size().reset_index(name ='Count')\n"
   ]
  },
  {
   "cell_type": "code",
   "execution_count": 54,
   "metadata": {},
   "outputs": [
    {
     "data": {
      "image/png": "[encoded data removed]",
      "text/plain": [
       "<Figure size 1000x600 with 1 Axes>"
      ]
     },
     "metadata": {},
     "output_type": "display_data"
    }
   ],
   "source": [
    "import seaborn as sns\n",
    "import matplotlib.pyplot as plt\n",
    "import numpy as np\n",
    "#import plotly.express as px\n",
    "\n",
    "# Assuming df_stress_sector has columns 'Sector' and 'StressLevel'\n",
    "plt.figure(figsize=(10, 6))\n",
    "sns.barplot(x='Sector', y='Count', hue= 'Stress_Level', data=df_stress_sector, palette='viridis')\n",
    "plt.xlabel('Sector')\n",
    "plt.ylabel('Stress Level')\n",
    "plt.title('Stress Levels within Sectors')\n",
    "plt.xticks(rotation=45)\n",
    "#plt.ylim(df_stress_sector['Count'].min() - 200, df_stress_sector['Count'].max() + 100)\n",
    "plt.yticks(np.arange(450, 1300, 50))\n",
    "plt.tight_layout()\n",
    "plt.show()\n",
    "\n",
    "#fig = px.bar(df, x=\"Category\", y=\"Value\", color=\"Group\", barmode=\"stack\")\n",
    "#fig.show()"
   ]
  },
  {
   "cell_type": "code",
   "execution_count": 53,
   "metadata": {},
   "outputs": [
    {
     "data": {
      "text/plain": [
       "Sector          Education\n",
       "Stress_Level         High\n",
       "Count                 477\n",
       "dtype: object"
      ]
     },
     "execution_count": 53,
     "metadata": {},
     "output_type": "execute_result"
    }
   ],
   "source": [
    "df_stress_sector.min()"
   ]
  },
  {
   "cell_type": "code",
   "execution_count": 46,
   "metadata": {},
   "outputs": [
    {
     "data": {
      "text/html": [
       "<div>\n",
       "<style scoped>\n",
       "    .dataframe tbody tr th:only-of-type {\n",
       "        vertical-align: middle;\n",
       "    }\n",
       "\n",
       "    .dataframe tbody tr th {\n",
       "        vertical-align: top;\n",
       "    }\n",
       "\n",
       "    .dataframe thead th {\n",
       "        text-align: right;\n",
       "    }\n",
       "</style>\n",
       "<table border=\"1\" class=\"dataframe\">\n",
       "  <thead>\n",
       "    <tr style=\"text-align: right;\">\n",
       "      <th></th>\n",
       "      <th>Sector</th>\n",
       "      <th>Stress_Level</th>\n",
       "      <th>Count</th>\n",
       "    </tr>\n",
       "  </thead>\n",
       "  <tbody>\n",
       "    <tr>\n",
       "      <th>7</th>\n",
       "      <td>IT</td>\n",
       "      <td>Low</td>\n",
       "      <td>500</td>\n",
       "    </tr>\n",
       "    <tr>\n",
       "      <th>8</th>\n",
       "      <td>IT</td>\n",
       "      <td>Medium</td>\n",
       "      <td>1295</td>\n",
       "    </tr>\n",
       "    <tr>\n",
       "      <th>9</th>\n",
       "      <td>Retail</td>\n",
       "      <td>High</td>\n",
       "      <td>777</td>\n",
       "    </tr>\n",
       "    <tr>\n",
       "      <th>10</th>\n",
       "      <td>Retail</td>\n",
       "      <td>Low</td>\n",
       "      <td>477</td>\n",
       "    </tr>\n",
       "    <tr>\n",
       "      <th>11</th>\n",
       "      <td>Retail</td>\n",
       "      <td>Medium</td>\n",
       "      <td>1218</td>\n",
       "    </tr>\n",
       "  </tbody>\n",
       "</table>\n",
       "</div>"
      ],
      "text/plain": [
       "    Sector Stress_Level  Count\n",
       "7       IT          Low    500\n",
       "8       IT       Medium   1295\n",
       "9   Retail         High    777\n",
       "10  Retail          Low    477\n",
       "11  Retail       Medium   1218"
      ]
     },
     "execution_count": 46,
     "metadata": {},
     "output_type": "execute_result"
    }
   ],
   "source": [
    "#df_stress_sector = df_stress_sector.reset_index()\n",
    "df_stress_sector.tail()"
   ]
  },
  {
   "cell_type": "code",
   "execution_count": 209,
   "metadata": {},
   "outputs": [],
   "source": [
    "#plt.scatter('Sector', 'Count', c='Stress_Level', data=df_stress_sector, cmap='coolwarm')\n",
    "\n",
    "#plt.show()"
   ]
  },
  {
   "cell_type": "code",
   "execution_count": 210,
   "metadata": {},
   "outputs": [
    {
     "data": {
      "text/plain": [
       "['6', '55']"
      ]
     },
     "execution_count": 210,
     "metadata": {},
     "output_type": "execute_result"
    }
   ],
   "source": [
    "# This results in a list with two items 6, 55\n",
    "'6 55'.split()"
   ]
  },
  {
   "cell_type": "markdown",
   "metadata": {},
   "source": [
    "##### Create a dataframe on the fly like this based on conditions"
   ]
  },
  {
   "cell_type": "code",
   "execution_count": 211,
   "metadata": {},
   "outputs": [],
   "source": [
    "def dataframe_return():\n",
    "    return pd.DataFrame({\n",
    "        f'getNthHighestSalary({N})': [None if (sorted_salaries.size < N or N < 0 or N ==0) else sorted_salaries.iloc[N-1]]})"
   ]
  },
  {
   "cell_type": "markdown",
   "metadata": {},
   "source": [
    "#### Rank method in Pandas\n",
    "\n",
    "You can implement ranking in pandas using the rank() function. The rank() method assigns ranks to each value in a DataFrame or Series based on their order. You can customize the ranking by using different methods such as:\n",
    "\n",
    "- 'average': Assigns the average rank to the values that are tied.\n",
    "- 'min': Assigns the smallest rank to the values that are tied.\n",
    "- 'max': Assigns the largest rank to the values that are tied.\n",
    "- 'first': Ranks values in the order they appear.\n",
    "- 'dense': Like 'min', but ranks are always consecutive."
   ]
  },
  {
   "cell_type": "code",
   "execution_count": 212,
   "metadata": {},
   "outputs": [],
   "source": [
    "df['rank'] = df['Meetings_Per_Day'].rank(method='dense', ascending=False)"
   ]
  }
 ],
 "metadata": {
  "kernelspec": {
   "display_name": "Python 3",
   "language": "python",
   "name": "python3"
  },
  "language_info": {
   "codemirror_mode": {
    "name": "ipython",
    "version": 3
   },
   "file_extension": ".py",
   "mimetype": "text/x-python",
   "name": "python",
   "nbconvert_exporter": "python",
   "pygments_lexer": "ipython3",
   "version": "3.9.6"
  }
 },
 "nbformat": 4,
 "nbformat_minor": 2
}
